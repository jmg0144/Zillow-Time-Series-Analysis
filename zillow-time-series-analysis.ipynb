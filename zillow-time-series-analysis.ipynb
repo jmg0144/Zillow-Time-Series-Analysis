{
 "cells": [
  {
   "cell_type": "markdown",
   "metadata": {},
   "source": [
    "# New Jersey Zillow Data Time Series Analysis"
   ]
  },
  {
   "cell_type": "markdown",
   "metadata": {},
   "source": [
    "## Business Problem"
   ]
  },
  {
   "cell_type": "markdown",
   "metadata": {},
   "source": [
    " - A real estate investment firm is interested in knowing the top three New Jersey counties to invest in based on return on investment (ROI). This notebook will analyze past ROI data in order to compare with future forecasted ROI predictions. The model used for predicting future ROI will be a SARIMA model, which takes into account the seasonal nature of the real estate market. The data will then be broken out by county and will use a stepwise fit to find optimal model orders in order to minimize AIC and produce the most accurate model based on the data. The SARIMA models will then be fitted and will forecast 5 years into the future. The models will then be analyzed taking into account RMSE as an evaluation metric. The top three counties will then be reccomended based on these methods, as well as the main counties to avoid, and the county with the lowest initial investment.   "
   ]
  },
  {
   "cell_type": "markdown",
   "metadata": {},
   "source": [
    "## Import Libraries"
   ]
  },
  {
   "cell_type": "code",
   "execution_count": 1,
   "metadata": {},
   "outputs": [],
   "source": [
    "import pandas as pd\n",
    "import matplotlib.pyplot as plt\n",
    "import seaborn as sns\n",
    "from statsmodels.tsa.stattools import adfuller\n",
    "from statsmodels.tsa.seasonal import seasonal_decompose\n",
    "from statsmodels.tsa.statespace.sarimax import SARIMAX\n",
    "from statsmodels.graphics.tsaplots import plot_acf, plot_pacf\n",
    "from statsmodels.tsa.arima_model import ARIMA\n",
    "from statsmodels.tools.eval_measures import rmse\n",
    "from pmdarima import auto_arima\n",
    "import warnings\n",
    "warnings.filterwarnings('ignore')\n",
    "plt.style.use('seaborn-bright')"
   ]
  },
  {
   "cell_type": "markdown",
   "metadata": {},
   "source": [
    "## Functions"
   ]
  },
  {
   "cell_type": "code",
   "execution_count": 2,
   "metadata": {},
   "outputs": [],
   "source": [
    "def melt_data(df):\n",
    "    \"\"\"Takes in a dataframe and returns a melted datframe with datetime columns.\"\"\"\n",
    "    melted = pd.melt(\n",
    "        df,\n",
    "        id_vars=['RegionID', 'RegionName', 'City', 'State', 'Metro', 'CountyName', 'SizeRank'],\n",
    "        var_name='time')\n",
    "    melted = melted.dropna(subset=['value'])\n",
    "    return melted"
   ]
  },
  {
   "cell_type": "code",
   "execution_count": 3,
   "metadata": {},
   "outputs": [],
   "source": [
    "def get_datetimes(df):\n",
    "    \"\"\"Takes in a dataframe and returns the date columns to datetime objects.\"\"\"\n",
    "    non_dt_cols = []\n",
    "    dt_cols = []\n",
    "    \n",
    "    for c in df.columns:\n",
    "        if c[0].isnumeric():\n",
    "            dt_cols.append(c)\n",
    "        else:\n",
    "            non_dt_cols.append(c)\n",
    "    dt_cols = list(pd.to_datetime(dt_cols, format = '%Y-%m'))\n",
    "    \n",
    "    df.columns = non_dt_cols + dt_cols\n",
    "    return df"
   ]
  },
  {
   "cell_type": "code",
   "execution_count": 4,
   "metadata": {},
   "outputs": [],
   "source": [
    "def plot_values(df, title):\n",
    "    \"\"\"Takes in a dataframe and graph title, plots the average annual home values of the dataframe.\"\"\"\n",
    "    df.resample(rule='A').mean().plot(figsize=(15,5))\n",
    "    plt.legend(['Mean Home Value'])\n",
    "    plt.grid()\n",
    "    plt.xlabel('Year')\n",
    "    plt.ylabel('Value US$')\n",
    "    plt.title(title);"
   ]
  },
  {
   "cell_type": "code",
   "execution_count": 5,
   "metadata": {},
   "outputs": [],
   "source": [
    "def adfuller_of(series):\n",
    "    \"\"\"Prints the Augmented Dickey-Fuller test results.\"\"\"\n",
    "    \n",
    "    adf, pvalue, usedlag, nobs, crit_vals, resstore = adfuller(series)\n",
    "    print(f'''\n",
    "                          ADF: {adf}\n",
    "                      P-Value: {pvalue}\n",
    "                     Used Lag: {usedlag}\n",
    "       Number of Observations: {nobs}\n",
    "    Critical Values (for ADF): {crit_vals}\n",
    "                  ResultStore: {resstore}\n",
    "    ''')"
   ]
  },
  {
   "cell_type": "code",
   "execution_count": 6,
   "metadata": {},
   "outputs": [],
   "source": [
    "def get_roi(df):\n",
    "    \"\"\"Calculate return on investment from a datframe.\"\"\"\n",
    "    resampled_df = df.resample(rule='A').mean()\n",
    "    cost = resampled_df.iloc[0,0]\n",
    "    value = resampled_df.iloc[-1,0]\n",
    "    ROI = (value-cost)/cost\n",
    "    print(f'1996-2018 Return on Investment: {round(ROI, 2)}')"
   ]
  },
  {
   "cell_type": "code",
   "execution_count": 7,
   "metadata": {},
   "outputs": [],
   "source": [
    "def county_df(county):\n",
    "    \"\"\"Create seperate county dataframes from NJ dataframe.\"\"\"\n",
    "    county_df = nj_df[(nj_df['CountyName'] == county)]\n",
    "    return county_df"
   ]
  },
  {
   "cell_type": "code",
   "execution_count": 8,
   "metadata": {},
   "outputs": [],
   "source": [
    "def get_roi_dict(state_df):\n",
    "    \"\"\"Takes in a state dataframe and returns a dictionary of past ROI by county.\"\"\"\n",
    "    roi_lst = []\n",
    "    for c in state_df.CountyName.unique():\n",
    "        county_df = state_df[(state_df['CountyName'] == c)]\n",
    "        resampled_df = county_df.resample(rule='A').mean()\n",
    "        cost = resampled_df.iloc[0,0]\n",
    "        value = resampled_df.iloc[-1,0]\n",
    "        ROI = (value-cost)/cost\n",
    "        roi_lst.append(round(ROI,2))\n",
    "    unique_counties = []\n",
    "    for county in state_df.CountyName.unique():\n",
    "        unique_counties.append(county)\n",
    "        \n",
    "    roi_dict = dict(zip(unique_counties, roi_lst))\n",
    "    return(roi_dict)"
   ]
  },
  {
   "cell_type": "code",
   "execution_count": 9,
   "metadata": {},
   "outputs": [],
   "source": [
    "def sarima_model_fcast(state_df):\n",
    "    \"\"\"Takes in a state dataframe, runs a stepwise fit and SARIMA model on each county and returns a dictionary of forecasted ROI for each county.\"\"\"\n",
    "    forcasted_roi = []\n",
    "    for c in state_df.CountyName.unique():\n",
    "        county_df = state_df[(state_df['CountyName'] == c)]\n",
    "        monthly_df = county_df.resample(rule='M').mean()\n",
    "        stepwise_fit = auto_arima(monthly_df['value'])\n",
    "        model_order = stepwise_fit.order\n",
    "        train = monthly_df.iloc[:253]\n",
    "        test = monthly_df.iloc[253:]\n",
    "        model = SARIMAX(train['value'], order=model_order)\n",
    "        results = model.fit()\n",
    "        start = len(train)\n",
    "        end = len(train) + len(test) - 1\n",
    "        predictions = results.predict(start, end, typ='levels')\n",
    "        error = rmse(test['value'], predictions)\n",
    "        future_model = SARIMAX(monthly_df['value'], order=model_order)\n",
    "        results_future = future_model.fit()\n",
    "        fcast = results_future.predict(len(monthly_df), len(monthly_df)+60, typ='levels')\n",
    "        fcast_df = pd.DataFrame(fcast)\n",
    "        cost = fcast_df.iloc[0,0]\n",
    "        value = fcast_df.iloc[-1,0]\n",
    "        ROI = (value-cost)/cost\n",
    "        forcasted_roi.append(round(ROI,2))\n",
    "        \n",
    "    unique_counties = []\n",
    "    for county in state_df.CountyName.unique():\n",
    "        unique_counties.append(county)\n",
    "            \n",
    "    roi_dict = dict(zip(unique_counties, forcasted_roi))\n",
    "    \n",
    "    return roi_dict"
   ]
  },
  {
   "cell_type": "code",
   "execution_count": 10,
   "metadata": {},
   "outputs": [],
   "source": [
    "def sarima_model_rmse(state_df):\n",
    "    \"\"\"Takes in a state dataframe, runs a stepwise fit and SARIMA model on each county and returns a dictionary of the RMSE for each county.\"\"\"\n",
    "    rmse_lst = []\n",
    "    for c in state_df.CountyName.unique():\n",
    "        county_df = state_df[(state_df['CountyName'] == c)]\n",
    "        monthly_df = county_df.resample(rule='M').mean()\n",
    "        stepwise_fit = auto_arima(monthly_df['value'])\n",
    "        model_order = stepwise_fit.order\n",
    "        train = monthly_df.iloc[:253]\n",
    "        test = monthly_df.iloc[253:]\n",
    "        model = SARIMAX(train['value'], order=model_order)\n",
    "        results = model.fit()\n",
    "        start = len(train)\n",
    "        end = len(train) + len(test) - 1\n",
    "        predictions = results.predict(start, end, typ='levels')\n",
    "        error = rmse(test['value'], predictions)\n",
    "        rmse_lst.append(round(error,))\n",
    "        \n",
    "    unique_counties = []\n",
    "    for county in state_df.CountyName.unique():\n",
    "        unique_counties.append(county)\n",
    "      \n",
    "    rmse_dict = dict(zip(unique_counties, rmse_lst))    \n",
    "    \n",
    "    return rmse_dict"
   ]
  },
  {
   "cell_type": "code",
   "execution_count": 11,
   "metadata": {},
   "outputs": [],
   "source": [
    "def fcast_plot(county_df, title):\n",
    "    \"\"\"Takes in a county dataframe and graph title, returns a graph of the 5-year county forecast.\"\"\"\n",
    "    monthly_df = county_df.resample(rule='M').mean()\n",
    "    stepwise_fit = auto_arima(monthly_df['value'])\n",
    "    model_order = stepwise_fit.order\n",
    "    train = monthly_df.iloc[:253]\n",
    "    test = monthly_df.iloc[253:]\n",
    "    start = len(train)\n",
    "    end = len(train) + len(test) - 1\n",
    "    \n",
    "    future_model = SARIMAX(monthly_df['value'], order = model_order)\n",
    "    results_future = future_model.fit()\n",
    "    fcast = results_future.predict(len(monthly_df), len(monthly_df)+60, typ='levels').rename('SARIMA Forecasted Value')\n",
    "    conf_int = results_future.get_forecast(60)\n",
    "    fcast_ci = conf_int.conf_int(alpha=0.05).rename(columns={'lower value':'Lower 95% Confidence Interval','upper value':'Upper 95% Confidence Interval'})\n",
    "    \n",
    "    return fcast_ci.plot(linestyle='dotted'),monthly_df['value'].plot(legend=True, label='Actual Mean Home Value', figsize=(12,8)), fcast.plot(legend=True), plt.grid(), plt.title(title), plt.xlabel('Year'), plt.ylabel('Value US$');"
   ]
  },
  {
   "cell_type": "code",
   "execution_count": 12,
   "metadata": {},
   "outputs": [],
   "source": [
    "def model_accuracy(county_df, title):\n",
    "    \"\"\"Takes in a county dataframe and graph title, returns a graph of actual values vs. model predicted values.\"\"\"  \n",
    "    monthly_df = county_df.resample(rule='M').mean()\n",
    "    stepwise_fit = auto_arima(monthly_df['value'])\n",
    "    model_order = stepwise_fit.order\n",
    "    train = monthly_df.iloc[:253]\n",
    "    test = monthly_df.iloc[253:]\n",
    "    start = len(train)\n",
    "    end = len(train) + len(test) - 1\n",
    "    future_model = SARIMAX(monthly_df['value'], order = model_order)\n",
    "    results_future = future_model.fit()\n",
    "    predictions = results_future.predict(start, end, typ='levels')\n",
    "    return test['value'].plot(legend=True,label='Actual Mean Home Value',figsize=(12,8)), predictions.plot(legend=True,label='SARIMA Predicted Mean Home Value'), plt.title(title), plt.xlabel('May 2017 - April 2018'), plt.ylabel('Value US$'), plt.grid()"
   ]
  },
  {
   "cell_type": "markdown",
   "metadata": {},
   "source": [
    "## Load Data for Analysis"
   ]
  },
  {
   "cell_type": "code",
   "execution_count": 13,
   "metadata": {},
   "outputs": [],
   "source": [
    "df = pd.read_csv('data/zillow_data.csv')"
   ]
  },
  {
   "cell_type": "code",
   "execution_count": 14,
   "metadata": {},
   "outputs": [
    {
     "data": {
      "text/html": [
       "<div>\n",
       "<style scoped>\n",
       "    .dataframe tbody tr th:only-of-type {\n",
       "        vertical-align: middle;\n",
       "    }\n",
       "\n",
       "    .dataframe tbody tr th {\n",
       "        vertical-align: top;\n",
       "    }\n",
       "\n",
       "    .dataframe thead th {\n",
       "        text-align: right;\n",
       "    }\n",
       "</style>\n",
       "<table border=\"1\" class=\"dataframe\">\n",
       "  <thead>\n",
       "    <tr style=\"text-align: right;\">\n",
       "      <th></th>\n",
       "      <th>RegionID</th>\n",
       "      <th>RegionName</th>\n",
       "      <th>City</th>\n",
       "      <th>State</th>\n",
       "      <th>Metro</th>\n",
       "      <th>CountyName</th>\n",
       "      <th>SizeRank</th>\n",
       "      <th>1996-04</th>\n",
       "      <th>1996-05</th>\n",
       "      <th>1996-06</th>\n",
       "      <th>...</th>\n",
       "      <th>2017-07</th>\n",
       "      <th>2017-08</th>\n",
       "      <th>2017-09</th>\n",
       "      <th>2017-10</th>\n",
       "      <th>2017-11</th>\n",
       "      <th>2017-12</th>\n",
       "      <th>2018-01</th>\n",
       "      <th>2018-02</th>\n",
       "      <th>2018-03</th>\n",
       "      <th>2018-04</th>\n",
       "    </tr>\n",
       "  </thead>\n",
       "  <tbody>\n",
       "    <tr>\n",
       "      <th>0</th>\n",
       "      <td>84654</td>\n",
       "      <td>60657</td>\n",
       "      <td>Chicago</td>\n",
       "      <td>IL</td>\n",
       "      <td>Chicago</td>\n",
       "      <td>Cook</td>\n",
       "      <td>1</td>\n",
       "      <td>334200.0</td>\n",
       "      <td>335400.0</td>\n",
       "      <td>336500.0</td>\n",
       "      <td>...</td>\n",
       "      <td>1005500</td>\n",
       "      <td>1007500</td>\n",
       "      <td>1007800</td>\n",
       "      <td>1009600</td>\n",
       "      <td>1013300</td>\n",
       "      <td>1018700</td>\n",
       "      <td>1024400</td>\n",
       "      <td>1030700</td>\n",
       "      <td>1033800</td>\n",
       "      <td>1030600</td>\n",
       "    </tr>\n",
       "    <tr>\n",
       "      <th>1</th>\n",
       "      <td>90668</td>\n",
       "      <td>75070</td>\n",
       "      <td>McKinney</td>\n",
       "      <td>TX</td>\n",
       "      <td>Dallas-Fort Worth</td>\n",
       "      <td>Collin</td>\n",
       "      <td>2</td>\n",
       "      <td>235700.0</td>\n",
       "      <td>236900.0</td>\n",
       "      <td>236700.0</td>\n",
       "      <td>...</td>\n",
       "      <td>308000</td>\n",
       "      <td>310000</td>\n",
       "      <td>312500</td>\n",
       "      <td>314100</td>\n",
       "      <td>315000</td>\n",
       "      <td>316600</td>\n",
       "      <td>318100</td>\n",
       "      <td>319600</td>\n",
       "      <td>321100</td>\n",
       "      <td>321800</td>\n",
       "    </tr>\n",
       "    <tr>\n",
       "      <th>2</th>\n",
       "      <td>91982</td>\n",
       "      <td>77494</td>\n",
       "      <td>Katy</td>\n",
       "      <td>TX</td>\n",
       "      <td>Houston</td>\n",
       "      <td>Harris</td>\n",
       "      <td>3</td>\n",
       "      <td>210400.0</td>\n",
       "      <td>212200.0</td>\n",
       "      <td>212200.0</td>\n",
       "      <td>...</td>\n",
       "      <td>321000</td>\n",
       "      <td>320600</td>\n",
       "      <td>320200</td>\n",
       "      <td>320400</td>\n",
       "      <td>320800</td>\n",
       "      <td>321200</td>\n",
       "      <td>321200</td>\n",
       "      <td>323000</td>\n",
       "      <td>326900</td>\n",
       "      <td>329900</td>\n",
       "    </tr>\n",
       "    <tr>\n",
       "      <th>3</th>\n",
       "      <td>84616</td>\n",
       "      <td>60614</td>\n",
       "      <td>Chicago</td>\n",
       "      <td>IL</td>\n",
       "      <td>Chicago</td>\n",
       "      <td>Cook</td>\n",
       "      <td>4</td>\n",
       "      <td>498100.0</td>\n",
       "      <td>500900.0</td>\n",
       "      <td>503100.0</td>\n",
       "      <td>...</td>\n",
       "      <td>1289800</td>\n",
       "      <td>1287700</td>\n",
       "      <td>1287400</td>\n",
       "      <td>1291500</td>\n",
       "      <td>1296600</td>\n",
       "      <td>1299000</td>\n",
       "      <td>1302700</td>\n",
       "      <td>1306400</td>\n",
       "      <td>1308500</td>\n",
       "      <td>1307000</td>\n",
       "    </tr>\n",
       "    <tr>\n",
       "      <th>4</th>\n",
       "      <td>93144</td>\n",
       "      <td>79936</td>\n",
       "      <td>El Paso</td>\n",
       "      <td>TX</td>\n",
       "      <td>El Paso</td>\n",
       "      <td>El Paso</td>\n",
       "      <td>5</td>\n",
       "      <td>77300.0</td>\n",
       "      <td>77300.0</td>\n",
       "      <td>77300.0</td>\n",
       "      <td>...</td>\n",
       "      <td>119100</td>\n",
       "      <td>119400</td>\n",
       "      <td>120000</td>\n",
       "      <td>120300</td>\n",
       "      <td>120300</td>\n",
       "      <td>120300</td>\n",
       "      <td>120300</td>\n",
       "      <td>120500</td>\n",
       "      <td>121000</td>\n",
       "      <td>121500</td>\n",
       "    </tr>\n",
       "  </tbody>\n",
       "</table>\n",
       "<p>5 rows × 272 columns</p>\n",
       "</div>"
      ],
      "text/plain": [
       "   RegionID  RegionName      City State              Metro CountyName  \\\n",
       "0     84654       60657   Chicago    IL            Chicago       Cook   \n",
       "1     90668       75070  McKinney    TX  Dallas-Fort Worth     Collin   \n",
       "2     91982       77494      Katy    TX            Houston     Harris   \n",
       "3     84616       60614   Chicago    IL            Chicago       Cook   \n",
       "4     93144       79936   El Paso    TX            El Paso    El Paso   \n",
       "\n",
       "   SizeRank   1996-04   1996-05   1996-06  ...  2017-07  2017-08  2017-09  \\\n",
       "0         1  334200.0  335400.0  336500.0  ...  1005500  1007500  1007800   \n",
       "1         2  235700.0  236900.0  236700.0  ...   308000   310000   312500   \n",
       "2         3  210400.0  212200.0  212200.0  ...   321000   320600   320200   \n",
       "3         4  498100.0  500900.0  503100.0  ...  1289800  1287700  1287400   \n",
       "4         5   77300.0   77300.0   77300.0  ...   119100   119400   120000   \n",
       "\n",
       "   2017-10  2017-11  2017-12  2018-01  2018-02  2018-03  2018-04  \n",
       "0  1009600  1013300  1018700  1024400  1030700  1033800  1030600  \n",
       "1   314100   315000   316600   318100   319600   321100   321800  \n",
       "2   320400   320800   321200   321200   323000   326900   329900  \n",
       "3  1291500  1296600  1299000  1302700  1306400  1308500  1307000  \n",
       "4   120300   120300   120300   120300   120500   121000   121500  \n",
       "\n",
       "[5 rows x 272 columns]"
      ]
     },
     "execution_count": 14,
     "metadata": {},
     "output_type": "execute_result"
    }
   ],
   "source": [
    "df.head()"
   ]
  },
  {
   "cell_type": "code",
   "execution_count": 15,
   "metadata": {},
   "outputs": [
    {
     "data": {
      "text/plain": [
       "(14723, 272)"
      ]
     },
     "execution_count": 15,
     "metadata": {},
     "output_type": "execute_result"
    }
   ],
   "source": [
    "df.shape"
   ]
  },
  {
   "cell_type": "markdown",
   "metadata": {},
   "source": [
    "## Data Description"
   ]
  },
  {
   "cell_type": "markdown",
   "metadata": {},
   "source": [
    " - The data used in this notebook will be Zillow home data ranging from April 1st, 1996 through April 1st, 2018. The data contains home value information from the United States consisting of 14,723 columns and 272 rows. For the purposes of this project the data will be filtered to only include New Jersey data. The New Jersey data will then be seperated out by individual county in order to model each county for forecasted ROI. The data will also be grouped by month for a mean value of homes for each month. The data will first need to be converted into datetime objects in order to prepare it for time series modeling. The data will also need to be converted from wide to long format in order to make it easier to work with and interperet. "
   ]
  },
  {
   "cell_type": "markdown",
   "metadata": {},
   "source": [
    "## Data Preprocessing"
   ]
  },
  {
   "cell_type": "code",
   "execution_count": 16,
   "metadata": {},
   "outputs": [
    {
     "data": {
      "text/html": [
       "<div>\n",
       "<style scoped>\n",
       "    .dataframe tbody tr th:only-of-type {\n",
       "        vertical-align: middle;\n",
       "    }\n",
       "\n",
       "    .dataframe tbody tr th {\n",
       "        vertical-align: top;\n",
       "    }\n",
       "\n",
       "    .dataframe thead th {\n",
       "        text-align: right;\n",
       "    }\n",
       "</style>\n",
       "<table border=\"1\" class=\"dataframe\">\n",
       "  <thead>\n",
       "    <tr style=\"text-align: right;\">\n",
       "      <th></th>\n",
       "      <th>RegionID</th>\n",
       "      <th>RegionName</th>\n",
       "      <th>City</th>\n",
       "      <th>State</th>\n",
       "      <th>Metro</th>\n",
       "      <th>CountyName</th>\n",
       "      <th>SizeRank</th>\n",
       "      <th>1996-04-01 00:00:00</th>\n",
       "      <th>1996-05-01 00:00:00</th>\n",
       "      <th>1996-06-01 00:00:00</th>\n",
       "      <th>...</th>\n",
       "      <th>2017-07-01 00:00:00</th>\n",
       "      <th>2017-08-01 00:00:00</th>\n",
       "      <th>2017-09-01 00:00:00</th>\n",
       "      <th>2017-10-01 00:00:00</th>\n",
       "      <th>2017-11-01 00:00:00</th>\n",
       "      <th>2017-12-01 00:00:00</th>\n",
       "      <th>2018-01-01 00:00:00</th>\n",
       "      <th>2018-02-01 00:00:00</th>\n",
       "      <th>2018-03-01 00:00:00</th>\n",
       "      <th>2018-04-01 00:00:00</th>\n",
       "    </tr>\n",
       "  </thead>\n",
       "  <tbody>\n",
       "    <tr>\n",
       "      <th>0</th>\n",
       "      <td>84654</td>\n",
       "      <td>60657</td>\n",
       "      <td>Chicago</td>\n",
       "      <td>IL</td>\n",
       "      <td>Chicago</td>\n",
       "      <td>Cook</td>\n",
       "      <td>1</td>\n",
       "      <td>334200.0</td>\n",
       "      <td>335400.0</td>\n",
       "      <td>336500.0</td>\n",
       "      <td>...</td>\n",
       "      <td>1005500</td>\n",
       "      <td>1007500</td>\n",
       "      <td>1007800</td>\n",
       "      <td>1009600</td>\n",
       "      <td>1013300</td>\n",
       "      <td>1018700</td>\n",
       "      <td>1024400</td>\n",
       "      <td>1030700</td>\n",
       "      <td>1033800</td>\n",
       "      <td>1030600</td>\n",
       "    </tr>\n",
       "    <tr>\n",
       "      <th>1</th>\n",
       "      <td>90668</td>\n",
       "      <td>75070</td>\n",
       "      <td>McKinney</td>\n",
       "      <td>TX</td>\n",
       "      <td>Dallas-Fort Worth</td>\n",
       "      <td>Collin</td>\n",
       "      <td>2</td>\n",
       "      <td>235700.0</td>\n",
       "      <td>236900.0</td>\n",
       "      <td>236700.0</td>\n",
       "      <td>...</td>\n",
       "      <td>308000</td>\n",
       "      <td>310000</td>\n",
       "      <td>312500</td>\n",
       "      <td>314100</td>\n",
       "      <td>315000</td>\n",
       "      <td>316600</td>\n",
       "      <td>318100</td>\n",
       "      <td>319600</td>\n",
       "      <td>321100</td>\n",
       "      <td>321800</td>\n",
       "    </tr>\n",
       "    <tr>\n",
       "      <th>2</th>\n",
       "      <td>91982</td>\n",
       "      <td>77494</td>\n",
       "      <td>Katy</td>\n",
       "      <td>TX</td>\n",
       "      <td>Houston</td>\n",
       "      <td>Harris</td>\n",
       "      <td>3</td>\n",
       "      <td>210400.0</td>\n",
       "      <td>212200.0</td>\n",
       "      <td>212200.0</td>\n",
       "      <td>...</td>\n",
       "      <td>321000</td>\n",
       "      <td>320600</td>\n",
       "      <td>320200</td>\n",
       "      <td>320400</td>\n",
       "      <td>320800</td>\n",
       "      <td>321200</td>\n",
       "      <td>321200</td>\n",
       "      <td>323000</td>\n",
       "      <td>326900</td>\n",
       "      <td>329900</td>\n",
       "    </tr>\n",
       "    <tr>\n",
       "      <th>3</th>\n",
       "      <td>84616</td>\n",
       "      <td>60614</td>\n",
       "      <td>Chicago</td>\n",
       "      <td>IL</td>\n",
       "      <td>Chicago</td>\n",
       "      <td>Cook</td>\n",
       "      <td>4</td>\n",
       "      <td>498100.0</td>\n",
       "      <td>500900.0</td>\n",
       "      <td>503100.0</td>\n",
       "      <td>...</td>\n",
       "      <td>1289800</td>\n",
       "      <td>1287700</td>\n",
       "      <td>1287400</td>\n",
       "      <td>1291500</td>\n",
       "      <td>1296600</td>\n",
       "      <td>1299000</td>\n",
       "      <td>1302700</td>\n",
       "      <td>1306400</td>\n",
       "      <td>1308500</td>\n",
       "      <td>1307000</td>\n",
       "    </tr>\n",
       "    <tr>\n",
       "      <th>4</th>\n",
       "      <td>93144</td>\n",
       "      <td>79936</td>\n",
       "      <td>El Paso</td>\n",
       "      <td>TX</td>\n",
       "      <td>El Paso</td>\n",
       "      <td>El Paso</td>\n",
       "      <td>5</td>\n",
       "      <td>77300.0</td>\n",
       "      <td>77300.0</td>\n",
       "      <td>77300.0</td>\n",
       "      <td>...</td>\n",
       "      <td>119100</td>\n",
       "      <td>119400</td>\n",
       "      <td>120000</td>\n",
       "      <td>120300</td>\n",
       "      <td>120300</td>\n",
       "      <td>120300</td>\n",
       "      <td>120300</td>\n",
       "      <td>120500</td>\n",
       "      <td>121000</td>\n",
       "      <td>121500</td>\n",
       "    </tr>\n",
       "  </tbody>\n",
       "</table>\n",
       "<p>5 rows × 272 columns</p>\n",
       "</div>"
      ],
      "text/plain": [
       "   RegionID  RegionName      City State              Metro CountyName  \\\n",
       "0     84654       60657   Chicago    IL            Chicago       Cook   \n",
       "1     90668       75070  McKinney    TX  Dallas-Fort Worth     Collin   \n",
       "2     91982       77494      Katy    TX            Houston     Harris   \n",
       "3     84616       60614   Chicago    IL            Chicago       Cook   \n",
       "4     93144       79936   El Paso    TX            El Paso    El Paso   \n",
       "\n",
       "   SizeRank  1996-04-01 00:00:00  1996-05-01 00:00:00  1996-06-01 00:00:00  \\\n",
       "0         1             334200.0             335400.0             336500.0   \n",
       "1         2             235700.0             236900.0             236700.0   \n",
       "2         3             210400.0             212200.0             212200.0   \n",
       "3         4             498100.0             500900.0             503100.0   \n",
       "4         5              77300.0              77300.0              77300.0   \n",
       "\n",
       "   ...  2017-07-01 00:00:00  2017-08-01 00:00:00  2017-09-01 00:00:00  \\\n",
       "0  ...              1005500              1007500              1007800   \n",
       "1  ...               308000               310000               312500   \n",
       "2  ...               321000               320600               320200   \n",
       "3  ...              1289800              1287700              1287400   \n",
       "4  ...               119100               119400               120000   \n",
       "\n",
       "   2017-10-01 00:00:00  2017-11-01 00:00:00  2017-12-01 00:00:00  \\\n",
       "0              1009600              1013300              1018700   \n",
       "1               314100               315000               316600   \n",
       "2               320400               320800               321200   \n",
       "3              1291500              1296600              1299000   \n",
       "4               120300               120300               120300   \n",
       "\n",
       "   2018-01-01 00:00:00  2018-02-01 00:00:00  2018-03-01 00:00:00  \\\n",
       "0              1024400              1030700              1033800   \n",
       "1               318100               319600               321100   \n",
       "2               321200               323000               326900   \n",
       "3              1302700              1306400              1308500   \n",
       "4               120300               120500               121000   \n",
       "\n",
       "   2018-04-01 00:00:00  \n",
       "0              1030600  \n",
       "1               321800  \n",
       "2               329900  \n",
       "3              1307000  \n",
       "4               121500  \n",
       "\n",
       "[5 rows x 272 columns]"
      ]
     },
     "execution_count": 16,
     "metadata": {},
     "output_type": "execute_result"
    }
   ],
   "source": [
    "df = get_datetimes(df)\n",
    "df.head()"
   ]
  },
  {
   "cell_type": "markdown",
   "metadata": {},
   "source": [
    "## EDA and Visualization"
   ]
  },
  {
   "cell_type": "code",
   "execution_count": 17,
   "metadata": {},
   "outputs": [],
   "source": [
    "font = {'family' : 'normal',\n",
    "        'weight' : 'bold',\n",
    "        'size'   : 18}\n",
    "\n",
    "plt.rc('font', **font)"
   ]
  },
  {
   "cell_type": "markdown",
   "metadata": {},
   "source": [
    "## Reshape from Wide to Long Format"
   ]
  },
  {
   "cell_type": "code",
   "execution_count": 18,
   "metadata": {},
   "outputs": [
    {
     "data": {
      "text/html": [
       "<div>\n",
       "<style scoped>\n",
       "    .dataframe tbody tr th:only-of-type {\n",
       "        vertical-align: middle;\n",
       "    }\n",
       "\n",
       "    .dataframe tbody tr th {\n",
       "        vertical-align: top;\n",
       "    }\n",
       "\n",
       "    .dataframe thead th {\n",
       "        text-align: right;\n",
       "    }\n",
       "</style>\n",
       "<table border=\"1\" class=\"dataframe\">\n",
       "  <thead>\n",
       "    <tr style=\"text-align: right;\">\n",
       "      <th></th>\n",
       "      <th>RegionID</th>\n",
       "      <th>RegionName</th>\n",
       "      <th>City</th>\n",
       "      <th>State</th>\n",
       "      <th>Metro</th>\n",
       "      <th>CountyName</th>\n",
       "      <th>SizeRank</th>\n",
       "      <th>time</th>\n",
       "      <th>value</th>\n",
       "    </tr>\n",
       "  </thead>\n",
       "  <tbody>\n",
       "    <tr>\n",
       "      <th>0</th>\n",
       "      <td>84654</td>\n",
       "      <td>60657</td>\n",
       "      <td>Chicago</td>\n",
       "      <td>IL</td>\n",
       "      <td>Chicago</td>\n",
       "      <td>Cook</td>\n",
       "      <td>1</td>\n",
       "      <td>1996-04-01</td>\n",
       "      <td>334200.0</td>\n",
       "    </tr>\n",
       "    <tr>\n",
       "      <th>1</th>\n",
       "      <td>90668</td>\n",
       "      <td>75070</td>\n",
       "      <td>McKinney</td>\n",
       "      <td>TX</td>\n",
       "      <td>Dallas-Fort Worth</td>\n",
       "      <td>Collin</td>\n",
       "      <td>2</td>\n",
       "      <td>1996-04-01</td>\n",
       "      <td>235700.0</td>\n",
       "    </tr>\n",
       "    <tr>\n",
       "      <th>2</th>\n",
       "      <td>91982</td>\n",
       "      <td>77494</td>\n",
       "      <td>Katy</td>\n",
       "      <td>TX</td>\n",
       "      <td>Houston</td>\n",
       "      <td>Harris</td>\n",
       "      <td>3</td>\n",
       "      <td>1996-04-01</td>\n",
       "      <td>210400.0</td>\n",
       "    </tr>\n",
       "    <tr>\n",
       "      <th>3</th>\n",
       "      <td>84616</td>\n",
       "      <td>60614</td>\n",
       "      <td>Chicago</td>\n",
       "      <td>IL</td>\n",
       "      <td>Chicago</td>\n",
       "      <td>Cook</td>\n",
       "      <td>4</td>\n",
       "      <td>1996-04-01</td>\n",
       "      <td>498100.0</td>\n",
       "    </tr>\n",
       "    <tr>\n",
       "      <th>4</th>\n",
       "      <td>93144</td>\n",
       "      <td>79936</td>\n",
       "      <td>El Paso</td>\n",
       "      <td>TX</td>\n",
       "      <td>El Paso</td>\n",
       "      <td>El Paso</td>\n",
       "      <td>5</td>\n",
       "      <td>1996-04-01</td>\n",
       "      <td>77300.0</td>\n",
       "    </tr>\n",
       "  </tbody>\n",
       "</table>\n",
       "</div>"
      ],
      "text/plain": [
       "   RegionID  RegionName      City State              Metro CountyName  \\\n",
       "0     84654       60657   Chicago    IL            Chicago       Cook   \n",
       "1     90668       75070  McKinney    TX  Dallas-Fort Worth     Collin   \n",
       "2     91982       77494      Katy    TX            Houston     Harris   \n",
       "3     84616       60614   Chicago    IL            Chicago       Cook   \n",
       "4     93144       79936   El Paso    TX            El Paso    El Paso   \n",
       "\n",
       "   SizeRank       time     value  \n",
       "0         1 1996-04-01  334200.0  \n",
       "1         2 1996-04-01  235700.0  \n",
       "2         3 1996-04-01  210400.0  \n",
       "3         4 1996-04-01  498100.0  \n",
       "4         5 1996-04-01   77300.0  "
      ]
     },
     "execution_count": 18,
     "metadata": {},
     "output_type": "execute_result"
    }
   ],
   "source": [
    "# Updated dataframe\n",
    "melted_df = melt_data(df)\n",
    "melted_df.head()"
   ]
  },
  {
   "cell_type": "code",
   "execution_count": 19,
   "metadata": {},
   "outputs": [
    {
     "name": "stdout",
     "output_type": "stream",
     "text": [
      "<class 'pandas.core.frame.DataFrame'>\n",
      "Int64Index: 3744704 entries, 0 to 3901594\n",
      "Data columns (total 9 columns):\n",
      " #   Column      Dtype         \n",
      "---  ------      -----         \n",
      " 0   RegionID    int64         \n",
      " 1   RegionName  int64         \n",
      " 2   City        object        \n",
      " 3   State       object        \n",
      " 4   Metro       object        \n",
      " 5   CountyName  object        \n",
      " 6   SizeRank    int64         \n",
      " 7   time        datetime64[ns]\n",
      " 8   value       float64       \n",
      "dtypes: datetime64[ns](1), float64(1), int64(3), object(4)\n",
      "memory usage: 285.7+ MB\n"
     ]
    }
   ],
   "source": [
    "# Melted dataframe info\n",
    "melted_df.info()"
   ]
  },
  {
   "cell_type": "markdown",
   "metadata": {},
   "source": [
    "## Seperate New Jersey Data"
   ]
  },
  {
   "cell_type": "code",
   "execution_count": 20,
   "metadata": {},
   "outputs": [],
   "source": [
    "# Select NJ data for analysis\n",
    "nj_df = melted_df[melted_df['State'] == 'NJ']\n",
    "nj_df.set_index('time', inplace=True)"
   ]
  },
  {
   "cell_type": "code",
   "execution_count": 21,
   "metadata": {},
   "outputs": [
    {
     "data": {
      "text/html": [
       "<div>\n",
       "<style scoped>\n",
       "    .dataframe tbody tr th:only-of-type {\n",
       "        vertical-align: middle;\n",
       "    }\n",
       "\n",
       "    .dataframe tbody tr th {\n",
       "        vertical-align: top;\n",
       "    }\n",
       "\n",
       "    .dataframe thead th {\n",
       "        text-align: right;\n",
       "    }\n",
       "</style>\n",
       "<table border=\"1\" class=\"dataframe\">\n",
       "  <thead>\n",
       "    <tr style=\"text-align: right;\">\n",
       "      <th></th>\n",
       "      <th>RegionID</th>\n",
       "      <th>RegionName</th>\n",
       "      <th>City</th>\n",
       "      <th>State</th>\n",
       "      <th>Metro</th>\n",
       "      <th>CountyName</th>\n",
       "      <th>SizeRank</th>\n",
       "      <th>value</th>\n",
       "    </tr>\n",
       "    <tr>\n",
       "      <th>time</th>\n",
       "      <th></th>\n",
       "      <th></th>\n",
       "      <th></th>\n",
       "      <th></th>\n",
       "      <th></th>\n",
       "      <th></th>\n",
       "      <th></th>\n",
       "      <th></th>\n",
       "    </tr>\n",
       "  </thead>\n",
       "  <tbody>\n",
       "    <tr>\n",
       "      <th>1996-04-01</th>\n",
       "      <td>60545</td>\n",
       "      <td>7030</td>\n",
       "      <td>Hoboken</td>\n",
       "      <td>NJ</td>\n",
       "      <td>New York</td>\n",
       "      <td>Hudson</td>\n",
       "      <td>58</td>\n",
       "      <td>301600.0</td>\n",
       "    </tr>\n",
       "    <tr>\n",
       "      <th>1996-04-01</th>\n",
       "      <td>61148</td>\n",
       "      <td>8701</td>\n",
       "      <td>Lakewood</td>\n",
       "      <td>NJ</td>\n",
       "      <td>New York</td>\n",
       "      <td>Ocean</td>\n",
       "      <td>74</td>\n",
       "      <td>153800.0</td>\n",
       "    </tr>\n",
       "    <tr>\n",
       "      <th>1996-04-01</th>\n",
       "      <td>61169</td>\n",
       "      <td>8753</td>\n",
       "      <td>Toms River</td>\n",
       "      <td>NJ</td>\n",
       "      <td>New York</td>\n",
       "      <td>Ocean</td>\n",
       "      <td>159</td>\n",
       "      <td>123400.0</td>\n",
       "    </tr>\n",
       "    <tr>\n",
       "      <th>1996-04-01</th>\n",
       "      <td>60518</td>\n",
       "      <td>7002</td>\n",
       "      <td>Bayonne</td>\n",
       "      <td>NJ</td>\n",
       "      <td>New York</td>\n",
       "      <td>Hudson</td>\n",
       "      <td>188</td>\n",
       "      <td>145000.0</td>\n",
       "    </tr>\n",
       "    <tr>\n",
       "      <th>1996-04-01</th>\n",
       "      <td>60639</td>\n",
       "      <td>7302</td>\n",
       "      <td>Jersey City</td>\n",
       "      <td>NJ</td>\n",
       "      <td>New York</td>\n",
       "      <td>Hudson</td>\n",
       "      <td>192</td>\n",
       "      <td>137200.0</td>\n",
       "    </tr>\n",
       "  </tbody>\n",
       "</table>\n",
       "</div>"
      ],
      "text/plain": [
       "            RegionID  RegionName         City State     Metro CountyName  \\\n",
       "time                                                                       \n",
       "1996-04-01     60545        7030      Hoboken    NJ  New York     Hudson   \n",
       "1996-04-01     61148        8701     Lakewood    NJ  New York      Ocean   \n",
       "1996-04-01     61169        8753   Toms River    NJ  New York      Ocean   \n",
       "1996-04-01     60518        7002      Bayonne    NJ  New York     Hudson   \n",
       "1996-04-01     60639        7302  Jersey City    NJ  New York     Hudson   \n",
       "\n",
       "            SizeRank     value  \n",
       "time                            \n",
       "1996-04-01        58  301600.0  \n",
       "1996-04-01        74  153800.0  \n",
       "1996-04-01       159  123400.0  \n",
       "1996-04-01       188  145000.0  \n",
       "1996-04-01       192  137200.0  "
      ]
     },
     "execution_count": 21,
     "metadata": {},
     "output_type": "execute_result"
    }
   ],
   "source": [
    "nj_df.head()"
   ]
  },
  {
   "cell_type": "code",
   "execution_count": 22,
   "metadata": {},
   "outputs": [
    {
     "name": "stdout",
     "output_type": "stream",
     "text": [
      "<class 'pandas.core.frame.DataFrame'>\n",
      "DatetimeIndex: 133030 entries, 1996-04-01 to 2018-04-01\n",
      "Data columns (total 8 columns):\n",
      " #   Column      Non-Null Count   Dtype  \n",
      "---  ------      --------------   -----  \n",
      " 0   RegionID    133030 non-null  int64  \n",
      " 1   RegionName  133030 non-null  int64  \n",
      " 2   City        133030 non-null  object \n",
      " 3   State       133030 non-null  object \n",
      " 4   Metro       133030 non-null  object \n",
      " 5   CountyName  133030 non-null  object \n",
      " 6   SizeRank    133030 non-null  int64  \n",
      " 7   value       133030 non-null  float64\n",
      "dtypes: float64(1), int64(3), object(4)\n",
      "memory usage: 9.1+ MB\n"
     ]
    }
   ],
   "source": [
    "nj_df.info()"
   ]
  },
  {
   "cell_type": "markdown",
   "metadata": {},
   "source": [
    " - The data contains no missing values.\n",
    " - Will change 'RegionID, RegionName, and 'SizeRank' columns to strings."
   ]
  },
  {
   "cell_type": "code",
   "execution_count": 23,
   "metadata": {},
   "outputs": [],
   "source": [
    "# Change columns from int64 to string\n",
    "nj_df['RegionID'] = nj_df['RegionID'].astype(str)\n",
    "nj_df['RegionName'] = nj_df['RegionName'].astype(str)\n",
    "nj_df['SizeRank'] = nj_df['SizeRank'].astype(str)"
   ]
  },
  {
   "cell_type": "code",
   "execution_count": 24,
   "metadata": {},
   "outputs": [
    {
     "name": "stderr",
     "output_type": "stream",
     "text": [
      "findfont: Font family ['normal'] not found. Falling back to DejaVu Sans.\n",
      "findfont: Font family ['normal'] not found. Falling back to DejaVu Sans.\n",
      "findfont: Font family ['normal'] not found. Falling back to DejaVu Sans.\n"
     ]
    },
    {
     "data": {
      "image/png": "[encoded data removed]",
      "text/plain": [
       "<Figure size 1080x360 with 1 Axes>"
      ]
     },
     "metadata": {
      "needs_background": "light"
     },
     "output_type": "display_data"
    }
   ],
   "source": [
    "# Plot NJ average home values\n",
    "plot_values(nj_df, 'New Jersey Average Home Values')"
   ]
  },
  {
   "cell_type": "markdown",
   "metadata": {},
   "source": [
    " - Overall New Jersey home values appear to have sharply increased from 1996 through around 2006 before significantly dropping in value from 2008 to around 2012. This is likely due to the housing crisis and recession starting in 2008. Since around 2012 home values appear to be steadily increasing across the state as the economy began to steadily improve during this time period. Overall the data does not appear to be stationary as it follows a general upward trend."
   ]
  },
  {
   "cell_type": "code",
   "execution_count": 25,
   "metadata": {},
   "outputs": [
    {
     "name": "stdout",
     "output_type": "stream",
     "text": [
      "\n",
      "                          ADF: -13.53726508783324\n",
      "                      P-Value: 2.553329425950148e-25\n",
      "                     Used Lag: 73\n",
      "       Number of Observations: 132956\n",
      "    Critical Values (for ADF): {'1%': -3.430399184890165, '5%': -2.861561739010255, '10%': -2.5667815709041135}\n",
      "                  ResultStore: 3605680.079990738\n",
      "    \n"
     ]
    }
   ],
   "source": [
    "# Perfrom Dickey-Fuller test to check for stationarity\n",
    "adfuller_of(nj_df['value'])"
   ]
  },
  {
   "cell_type": "markdown",
   "metadata": {},
   "source": [
    " - Adfuller test shows a p-value of 2.55. This is above the .05 threshold, meaning we can accept the null hypothesis that the data is not stationary. "
   ]
  },
  {
   "cell_type": "code",
   "execution_count": 26,
   "metadata": {},
   "outputs": [],
   "source": [
    "# Resample NJ data by month\n",
    "nj_monthly = nj_df.resample(rule='M').mean()"
   ]
  },
  {
   "cell_type": "code",
   "execution_count": 27,
   "metadata": {},
   "outputs": [
    {
     "data": {
      "image/png": "[encoded data removed]",
      "text/plain": [
       "<Figure size 1080x576 with 4 Axes>"
      ]
     },
     "metadata": {
      "needs_background": "light"
     },
     "output_type": "display_data"
    }
   ],
   "source": [
    "# Run a seasonal decomposition to check from trends, seasonality, and residual values\n",
    "decomposition = seasonal_decompose(nj_monthly['value'])\n",
    "fig = decomposition.plot()\n",
    "plt.title('NJ Decomposition')\n",
    "fig.set_size_inches(15,8);"
   ]
  },
  {
   "cell_type": "markdown",
   "metadata": {},
   "source": [
    " - Looking at the decomposition chart, the data appears to follows a general upward  trend as expected. The data is also very seasonal, likely due to the seasonal nature of the real esate market in general. Finally the residuals or 'noise' in the date seems fairly consistent up until around the early 2000's when they start to sharly rise and then drop again around the 2008 recession, and again show a dip around around 2017 before beggining to rise again.  "
   ]
  },
  {
   "cell_type": "code",
   "execution_count": 28,
   "metadata": {},
   "outputs": [
    {
     "data": {
      "image/png": "[encoded data removed]",
      "text/plain": [
       "<Figure size 432x288 with 1 Axes>"
      ]
     },
     "metadata": {
      "needs_background": "light"
     },
     "output_type": "display_data"
    }
   ],
   "source": [
    "# Plot the autocorrelation function\n",
    "plot_acf(nj_monthly['value'])\n",
    "plt.title('NJ Monthly Autocorrelation')\n",
    "plt.xlabel('Lag')\n",
    "plt.ylabel('Autocorrelation');"
   ]
  },
  {
   "cell_type": "markdown",
   "metadata": {},
   "source": [
    " - Autocorrelation graph shows the data is correlated up to about 20 lags."
   ]
  },
  {
   "cell_type": "markdown",
   "metadata": {},
   "source": [
    "### NJ Overall ROI"
   ]
  },
  {
   "cell_type": "code",
   "execution_count": 29,
   "metadata": {},
   "outputs": [
    {
     "name": "stdout",
     "output_type": "stream",
     "text": [
      "1996-2018 Return on Investment: 1.27\n"
     ]
    }
   ],
   "source": [
    "# Calculate ROI for the state of New Jersey ('96-'18)\n",
    "get_roi(nj_df)"
   ]
  },
  {
   "cell_type": "markdown",
   "metadata": {},
   "source": [
    "## Seperate Data into Individual Counties"
   ]
  },
  {
   "cell_type": "code",
   "execution_count": 30,
   "metadata": {},
   "outputs": [
    {
     "data": {
      "text/plain": [
       "array(['Hudson', 'Ocean', 'Middlesex', 'Somerset', 'Monmouth', 'Passaic',\n",
       "       'Essex', 'Camden', 'Bergen', 'Burlington', 'Union', 'Mercer',\n",
       "       'Morris', 'Atlantic', 'Gloucester', 'Cumberland', 'Warren',\n",
       "       'Hunterdon', 'Cape May', 'Sussex', 'Salem'], dtype=object)"
      ]
     },
     "execution_count": 30,
     "metadata": {},
     "output_type": "execute_result"
    }
   ],
   "source": [
    "# Check unique county names\n",
    "melted_df[melted_df['State'] == 'NJ']['CountyName'].unique()"
   ]
  },
  {
   "cell_type": "markdown",
   "metadata": {},
   "source": [
    "## Data Exploration"
   ]
  },
  {
   "cell_type": "markdown",
   "metadata": {},
   "source": [
    " - Will break the data out into individual counties, plot any interesting findings, as well as calculate county ROI's for analysis."
   ]
  },
  {
   "cell_type": "markdown",
   "metadata": {},
   "source": [
    "### Hudson County Analysis"
   ]
  },
  {
   "cell_type": "code",
   "execution_count": 31,
   "metadata": {},
   "outputs": [
    {
     "data": {
      "text/html": [
       "<div>\n",
       "<style scoped>\n",
       "    .dataframe tbody tr th:only-of-type {\n",
       "        vertical-align: middle;\n",
       "    }\n",
       "\n",
       "    .dataframe tbody tr th {\n",
       "        vertical-align: top;\n",
       "    }\n",
       "\n",
       "    .dataframe thead th {\n",
       "        text-align: right;\n",
       "    }\n",
       "</style>\n",
       "<table border=\"1\" class=\"dataframe\">\n",
       "  <thead>\n",
       "    <tr style=\"text-align: right;\">\n",
       "      <th></th>\n",
       "      <th>RegionID</th>\n",
       "      <th>RegionName</th>\n",
       "      <th>City</th>\n",
       "      <th>State</th>\n",
       "      <th>Metro</th>\n",
       "      <th>CountyName</th>\n",
       "      <th>SizeRank</th>\n",
       "      <th>value</th>\n",
       "    </tr>\n",
       "    <tr>\n",
       "      <th>time</th>\n",
       "      <th></th>\n",
       "      <th></th>\n",
       "      <th></th>\n",
       "      <th></th>\n",
       "      <th></th>\n",
       "      <th></th>\n",
       "      <th></th>\n",
       "      <th></th>\n",
       "    </tr>\n",
       "  </thead>\n",
       "  <tbody>\n",
       "    <tr>\n",
       "      <th>1996-04-01</th>\n",
       "      <td>60545</td>\n",
       "      <td>7030</td>\n",
       "      <td>Hoboken</td>\n",
       "      <td>NJ</td>\n",
       "      <td>New York</td>\n",
       "      <td>Hudson</td>\n",
       "      <td>58</td>\n",
       "      <td>301600.0</td>\n",
       "    </tr>\n",
       "    <tr>\n",
       "      <th>1996-04-01</th>\n",
       "      <td>60518</td>\n",
       "      <td>7002</td>\n",
       "      <td>Bayonne</td>\n",
       "      <td>NJ</td>\n",
       "      <td>New York</td>\n",
       "      <td>Hudson</td>\n",
       "      <td>188</td>\n",
       "      <td>145000.0</td>\n",
       "    </tr>\n",
       "    <tr>\n",
       "      <th>1996-04-01</th>\n",
       "      <td>60639</td>\n",
       "      <td>7302</td>\n",
       "      <td>Jersey City</td>\n",
       "      <td>NJ</td>\n",
       "      <td>New York</td>\n",
       "      <td>Hudson</td>\n",
       "      <td>192</td>\n",
       "      <td>137200.0</td>\n",
       "    </tr>\n",
       "    <tr>\n",
       "      <th>1996-04-01</th>\n",
       "      <td>60599</td>\n",
       "      <td>7093</td>\n",
       "      <td>West New York</td>\n",
       "      <td>NJ</td>\n",
       "      <td>New York</td>\n",
       "      <td>Hudson</td>\n",
       "      <td>215</td>\n",
       "      <td>131700.0</td>\n",
       "    </tr>\n",
       "    <tr>\n",
       "      <th>1996-04-01</th>\n",
       "      <td>60594</td>\n",
       "      <td>7087</td>\n",
       "      <td>Union City</td>\n",
       "      <td>NJ</td>\n",
       "      <td>New York</td>\n",
       "      <td>Hudson</td>\n",
       "      <td>320</td>\n",
       "      <td>127300.0</td>\n",
       "    </tr>\n",
       "  </tbody>\n",
       "</table>\n",
       "</div>"
      ],
      "text/plain": [
       "           RegionID RegionName           City State     Metro CountyName  \\\n",
       "time                                                                       \n",
       "1996-04-01    60545       7030        Hoboken    NJ  New York     Hudson   \n",
       "1996-04-01    60518       7002        Bayonne    NJ  New York     Hudson   \n",
       "1996-04-01    60639       7302    Jersey City    NJ  New York     Hudson   \n",
       "1996-04-01    60599       7093  West New York    NJ  New York     Hudson   \n",
       "1996-04-01    60594       7087     Union City    NJ  New York     Hudson   \n",
       "\n",
       "           SizeRank     value  \n",
       "time                           \n",
       "1996-04-01       58  301600.0  \n",
       "1996-04-01      188  145000.0  \n",
       "1996-04-01      192  137200.0  \n",
       "1996-04-01      215  131700.0  \n",
       "1996-04-01      320  127300.0  "
      ]
     },
     "execution_count": 31,
     "metadata": {},
     "output_type": "execute_result"
    }
   ],
   "source": [
    "# Create Hudson County dataframe\n",
    "hudson_df = county_df('Hudson')\n",
    "hudson_df.head()"
   ]
  },
  {
   "cell_type": "code",
   "execution_count": 32,
   "metadata": {},
   "outputs": [
    {
     "data": {
      "image/png": "[encoded data removed]",
      "text/plain": [
       "<Figure size 1080x360 with 1 Axes>"
      ]
     },
     "metadata": {
      "needs_background": "light"
     },
     "output_type": "display_data"
    }
   ],
   "source": [
    "# Plot Hudson County Average Values\n",
    "plot_values(hudson_df, 'Hudson County Average Home Values')"
   ]
  },
  {
   "cell_type": "markdown",
   "metadata": {},
   "source": [
    " - Hudson County appears to have one of the highest county ROI's after analyzing the above graph."
   ]
  },
  {
   "cell_type": "code",
   "execution_count": 33,
   "metadata": {},
   "outputs": [
    {
     "name": "stdout",
     "output_type": "stream",
     "text": [
      "1996-2018 Return on Investment: 3.15\n"
     ]
    }
   ],
   "source": [
    "# Check Hudson County ROI\n",
    "get_roi(hudson_df)"
   ]
  },
  {
   "cell_type": "markdown",
   "metadata": {},
   "source": [
    "### Monmouth County Analysis"
   ]
  },
  {
   "cell_type": "code",
   "execution_count": 34,
   "metadata": {},
   "outputs": [
    {
     "data": {
      "text/html": [
       "<div>\n",
       "<style scoped>\n",
       "    .dataframe tbody tr th:only-of-type {\n",
       "        vertical-align: middle;\n",
       "    }\n",
       "\n",
       "    .dataframe tbody tr th {\n",
       "        vertical-align: top;\n",
       "    }\n",
       "\n",
       "    .dataframe thead th {\n",
       "        text-align: right;\n",
       "    }\n",
       "</style>\n",
       "<table border=\"1\" class=\"dataframe\">\n",
       "  <thead>\n",
       "    <tr style=\"text-align: right;\">\n",
       "      <th></th>\n",
       "      <th>RegionID</th>\n",
       "      <th>RegionName</th>\n",
       "      <th>City</th>\n",
       "      <th>State</th>\n",
       "      <th>Metro</th>\n",
       "      <th>CountyName</th>\n",
       "      <th>SizeRank</th>\n",
       "      <th>value</th>\n",
       "    </tr>\n",
       "    <tr>\n",
       "      <th>time</th>\n",
       "      <th></th>\n",
       "      <th></th>\n",
       "      <th></th>\n",
       "      <th></th>\n",
       "      <th></th>\n",
       "      <th></th>\n",
       "      <th></th>\n",
       "      <th></th>\n",
       "    </tr>\n",
       "  </thead>\n",
       "  <tbody>\n",
       "    <tr>\n",
       "      <th>1996-04-01</th>\n",
       "      <td>60776</td>\n",
       "      <td>7728</td>\n",
       "      <td>Freehold</td>\n",
       "      <td>NJ</td>\n",
       "      <td>New York</td>\n",
       "      <td>Monmouth</td>\n",
       "      <td>577</td>\n",
       "      <td>200200.0</td>\n",
       "    </tr>\n",
       "    <tr>\n",
       "      <th>1996-04-01</th>\n",
       "      <td>60763</td>\n",
       "      <td>7712</td>\n",
       "      <td>Ocean</td>\n",
       "      <td>NJ</td>\n",
       "      <td>New York</td>\n",
       "      <td>Monmouth</td>\n",
       "      <td>1110</td>\n",
       "      <td>159300.0</td>\n",
       "    </tr>\n",
       "    <tr>\n",
       "      <th>1996-04-01</th>\n",
       "      <td>60774</td>\n",
       "      <td>7726</td>\n",
       "      <td>Manalapan</td>\n",
       "      <td>NJ</td>\n",
       "      <td>New York</td>\n",
       "      <td>Monmouth</td>\n",
       "      <td>1499</td>\n",
       "      <td>205700.0</td>\n",
       "    </tr>\n",
       "    <tr>\n",
       "      <th>1996-04-01</th>\n",
       "      <td>60793</td>\n",
       "      <td>7753</td>\n",
       "      <td>Neptune</td>\n",
       "      <td>NJ</td>\n",
       "      <td>New York</td>\n",
       "      <td>Monmouth</td>\n",
       "      <td>1704</td>\n",
       "      <td>119400.0</td>\n",
       "    </tr>\n",
       "    <tr>\n",
       "      <th>1996-04-01</th>\n",
       "      <td>60786</td>\n",
       "      <td>7740</td>\n",
       "      <td>Long Branch</td>\n",
       "      <td>NJ</td>\n",
       "      <td>New York</td>\n",
       "      <td>Monmouth</td>\n",
       "      <td>2483</td>\n",
       "      <td>116100.0</td>\n",
       "    </tr>\n",
       "  </tbody>\n",
       "</table>\n",
       "</div>"
      ],
      "text/plain": [
       "           RegionID RegionName         City State     Metro CountyName  \\\n",
       "time                                                                     \n",
       "1996-04-01    60776       7728     Freehold    NJ  New York   Monmouth   \n",
       "1996-04-01    60763       7712        Ocean    NJ  New York   Monmouth   \n",
       "1996-04-01    60774       7726    Manalapan    NJ  New York   Monmouth   \n",
       "1996-04-01    60793       7753      Neptune    NJ  New York   Monmouth   \n",
       "1996-04-01    60786       7740  Long Branch    NJ  New York   Monmouth   \n",
       "\n",
       "           SizeRank     value  \n",
       "time                           \n",
       "1996-04-01      577  200200.0  \n",
       "1996-04-01     1110  159300.0  \n",
       "1996-04-01     1499  205700.0  \n",
       "1996-04-01     1704  119400.0  \n",
       "1996-04-01     2483  116100.0  "
      ]
     },
     "execution_count": 34,
     "metadata": {},
     "output_type": "execute_result"
    }
   ],
   "source": [
    "monmouth_df = county_df('Monmouth')\n",
    "monmouth_df.head()"
   ]
  },
  {
   "cell_type": "code",
   "execution_count": 35,
   "metadata": {},
   "outputs": [
    {
     "data": {
      "image/png": "[encoded data removed]",
      "text/plain": [
       "<Figure size 1080x360 with 1 Axes>"
      ]
     },
     "metadata": {
      "needs_background": "light"
     },
     "output_type": "display_data"
    }
   ],
   "source": [
    "plot_values(monmouth_df, 'Monmouth County Average Home Values')"
   ]
  },
  {
   "cell_type": "markdown",
   "metadata": {},
   "source": [
    " - Monmouth County also appears to have one of the highest county ROI's after analyzing the above graph."
   ]
  },
  {
   "cell_type": "code",
   "execution_count": 36,
   "metadata": {},
   "outputs": [
    {
     "name": "stdout",
     "output_type": "stream",
     "text": [
      "1996-2018 Return on Investment: 1.76\n"
     ]
    }
   ],
   "source": [
    "# Check Monmouth County ROI\n",
    "get_roi(monmouth_df)"
   ]
  },
  {
   "cell_type": "markdown",
   "metadata": {},
   "source": [
    "### Cape May County Analysis"
   ]
  },
  {
   "cell_type": "code",
   "execution_count": 37,
   "metadata": {},
   "outputs": [
    {
     "data": {
      "text/html": [
       "<div>\n",
       "<style scoped>\n",
       "    .dataframe tbody tr th:only-of-type {\n",
       "        vertical-align: middle;\n",
       "    }\n",
       "\n",
       "    .dataframe tbody tr th {\n",
       "        vertical-align: top;\n",
       "    }\n",
       "\n",
       "    .dataframe thead th {\n",
       "        text-align: right;\n",
       "    }\n",
       "</style>\n",
       "<table border=\"1\" class=\"dataframe\">\n",
       "  <thead>\n",
       "    <tr style=\"text-align: right;\">\n",
       "      <th></th>\n",
       "      <th>RegionID</th>\n",
       "      <th>RegionName</th>\n",
       "      <th>City</th>\n",
       "      <th>State</th>\n",
       "      <th>Metro</th>\n",
       "      <th>CountyName</th>\n",
       "      <th>SizeRank</th>\n",
       "      <th>value</th>\n",
       "    </tr>\n",
       "    <tr>\n",
       "      <th>time</th>\n",
       "      <th></th>\n",
       "      <th></th>\n",
       "      <th></th>\n",
       "      <th></th>\n",
       "      <th></th>\n",
       "      <th></th>\n",
       "      <th></th>\n",
       "      <th></th>\n",
       "    </tr>\n",
       "  </thead>\n",
       "  <tbody>\n",
       "    <tr>\n",
       "      <th>1996-04-01</th>\n",
       "      <td>61017</td>\n",
       "      <td>8226</td>\n",
       "      <td>Ocean City</td>\n",
       "      <td>NJ</td>\n",
       "      <td>Ocean City</td>\n",
       "      <td>Cape May</td>\n",
       "      <td>3631</td>\n",
       "      <td>182400.0</td>\n",
       "    </tr>\n",
       "    <tr>\n",
       "      <th>1996-04-01</th>\n",
       "      <td>61002</td>\n",
       "      <td>8204</td>\n",
       "      <td>Lower</td>\n",
       "      <td>NJ</td>\n",
       "      <td>Ocean City</td>\n",
       "      <td>Cape May</td>\n",
       "      <td>4537</td>\n",
       "      <td>107700.0</td>\n",
       "    </tr>\n",
       "    <tr>\n",
       "      <th>1996-04-01</th>\n",
       "      <td>61004</td>\n",
       "      <td>8210</td>\n",
       "      <td>Middle</td>\n",
       "      <td>NJ</td>\n",
       "      <td>Ocean City</td>\n",
       "      <td>Cape May</td>\n",
       "      <td>5878</td>\n",
       "      <td>93300.0</td>\n",
       "    </tr>\n",
       "    <tr>\n",
       "      <th>1996-04-01</th>\n",
       "      <td>61034</td>\n",
       "      <td>8260</td>\n",
       "      <td>North Wildwood</td>\n",
       "      <td>NJ</td>\n",
       "      <td>Ocean City</td>\n",
       "      <td>Cape May</td>\n",
       "      <td>6038</td>\n",
       "      <td>89500.0</td>\n",
       "    </tr>\n",
       "    <tr>\n",
       "      <th>1996-04-01</th>\n",
       "      <td>61032</td>\n",
       "      <td>8251</td>\n",
       "      <td>Villas</td>\n",
       "      <td>NJ</td>\n",
       "      <td>Ocean City</td>\n",
       "      <td>Cape May</td>\n",
       "      <td>7399</td>\n",
       "      <td>61800.0</td>\n",
       "    </tr>\n",
       "  </tbody>\n",
       "</table>\n",
       "</div>"
      ],
      "text/plain": [
       "           RegionID RegionName            City State       Metro CountyName  \\\n",
       "time                                                                          \n",
       "1996-04-01    61017       8226      Ocean City    NJ  Ocean City   Cape May   \n",
       "1996-04-01    61002       8204           Lower    NJ  Ocean City   Cape May   \n",
       "1996-04-01    61004       8210          Middle    NJ  Ocean City   Cape May   \n",
       "1996-04-01    61034       8260  North Wildwood    NJ  Ocean City   Cape May   \n",
       "1996-04-01    61032       8251          Villas    NJ  Ocean City   Cape May   \n",
       "\n",
       "           SizeRank     value  \n",
       "time                           \n",
       "1996-04-01     3631  182400.0  \n",
       "1996-04-01     4537  107700.0  \n",
       "1996-04-01     5878   93300.0  \n",
       "1996-04-01     6038   89500.0  \n",
       "1996-04-01     7399   61800.0  "
      ]
     },
     "execution_count": 37,
     "metadata": {},
     "output_type": "execute_result"
    }
   ],
   "source": [
    "cape_may_df = county_df('Cape May')\n",
    "cape_may_df.head()"
   ]
  },
  {
   "cell_type": "code",
   "execution_count": 38,
   "metadata": {},
   "outputs": [
    {
     "data": {
      "image/png": "[encoded data removed]",
      "text/plain": [
       "<Figure size 1080x360 with 1 Axes>"
      ]
     },
     "metadata": {
      "needs_background": "light"
     },
     "output_type": "display_data"
    }
   ],
   "source": [
    "plot_values(cape_may_df, 'Cape May County Average Home Values')"
   ]
  },
  {
   "cell_type": "markdown",
   "metadata": {},
   "source": [
    " - Cape May County also appears to have one of the highest county ROI's after analyzing the above graph."
   ]
  },
  {
   "cell_type": "code",
   "execution_count": 39,
   "metadata": {},
   "outputs": [
    {
     "name": "stdout",
     "output_type": "stream",
     "text": [
      "1996-2018 Return on Investment: 2.61\n"
     ]
    }
   ],
   "source": [
    "get_roi(cape_may_df)"
   ]
  },
  {
   "cell_type": "markdown",
   "metadata": {},
   "source": [
    "## County ROI Analysis"
   ]
  },
  {
   "cell_type": "markdown",
   "metadata": {},
   "source": [
    " - Will analyze the ROI's for each county in order to determine the top three past ROI counties."
   ]
  },
  {
   "cell_type": "code",
   "execution_count": 40,
   "metadata": {},
   "outputs": [],
   "source": [
    "# Run ROI Dictionary function to create dictionary of past ROI's\n",
    "roi_dict = get_roi_dict(nj_df)"
   ]
  },
  {
   "cell_type": "code",
   "execution_count": 41,
   "metadata": {},
   "outputs": [
    {
     "data": {
      "text/plain": [
       "{'Hudson': 3.15,\n",
       " 'Ocean': 1.54,\n",
       " 'Middlesex': 1.17,\n",
       " 'Somerset': 0.97,\n",
       " 'Monmouth': 1.76,\n",
       " 'Passaic': 0.98,\n",
       " 'Essex': 1.63,\n",
       " 'Camden': 0.82,\n",
       " 'Bergen': 1.32,\n",
       " 'Burlington': 0.83,\n",
       " 'Union': 1.33,\n",
       " 'Mercer': 1.07,\n",
       " 'Morris': 1.07,\n",
       " 'Atlantic': 0.96,\n",
       " 'Gloucester': 0.77,\n",
       " 'Cumberland': 0.68,\n",
       " 'Warren': 0.64,\n",
       " 'Hunterdon': 0.77,\n",
       " 'Cape May': 2.61,\n",
       " 'Sussex': 0.64,\n",
       " 'Salem': 0.75}"
      ]
     },
     "execution_count": 41,
     "metadata": {},
     "output_type": "execute_result"
    }
   ],
   "source": [
    "roi_dict"
   ]
  },
  {
   "cell_type": "code",
   "execution_count": 42,
   "metadata": {},
   "outputs": [
    {
     "data": {
      "text/html": [
       "<div>\n",
       "<style scoped>\n",
       "    .dataframe tbody tr th:only-of-type {\n",
       "        vertical-align: middle;\n",
       "    }\n",
       "\n",
       "    .dataframe tbody tr th {\n",
       "        vertical-align: top;\n",
       "    }\n",
       "\n",
       "    .dataframe thead th {\n",
       "        text-align: right;\n",
       "    }\n",
       "</style>\n",
       "<table border=\"1\" class=\"dataframe\">\n",
       "  <thead>\n",
       "    <tr style=\"text-align: right;\">\n",
       "      <th></th>\n",
       "      <th>County</th>\n",
       "      <th>Return on Investment</th>\n",
       "    </tr>\n",
       "  </thead>\n",
       "  <tbody>\n",
       "    <tr>\n",
       "      <th>0</th>\n",
       "      <td>Hudson</td>\n",
       "      <td>3.15</td>\n",
       "    </tr>\n",
       "    <tr>\n",
       "      <th>1</th>\n",
       "      <td>Cape May</td>\n",
       "      <td>2.61</td>\n",
       "    </tr>\n",
       "    <tr>\n",
       "      <th>2</th>\n",
       "      <td>Monmouth</td>\n",
       "      <td>1.76</td>\n",
       "    </tr>\n",
       "    <tr>\n",
       "      <th>3</th>\n",
       "      <td>Essex</td>\n",
       "      <td>1.63</td>\n",
       "    </tr>\n",
       "    <tr>\n",
       "      <th>4</th>\n",
       "      <td>Ocean</td>\n",
       "      <td>1.54</td>\n",
       "    </tr>\n",
       "    <tr>\n",
       "      <th>5</th>\n",
       "      <td>Union</td>\n",
       "      <td>1.33</td>\n",
       "    </tr>\n",
       "    <tr>\n",
       "      <th>6</th>\n",
       "      <td>Bergen</td>\n",
       "      <td>1.32</td>\n",
       "    </tr>\n",
       "    <tr>\n",
       "      <th>7</th>\n",
       "      <td>Middlesex</td>\n",
       "      <td>1.17</td>\n",
       "    </tr>\n",
       "    <tr>\n",
       "      <th>8</th>\n",
       "      <td>Mercer</td>\n",
       "      <td>1.07</td>\n",
       "    </tr>\n",
       "    <tr>\n",
       "      <th>9</th>\n",
       "      <td>Morris</td>\n",
       "      <td>1.07</td>\n",
       "    </tr>\n",
       "    <tr>\n",
       "      <th>10</th>\n",
       "      <td>Passaic</td>\n",
       "      <td>0.98</td>\n",
       "    </tr>\n",
       "    <tr>\n",
       "      <th>11</th>\n",
       "      <td>Somerset</td>\n",
       "      <td>0.97</td>\n",
       "    </tr>\n",
       "    <tr>\n",
       "      <th>12</th>\n",
       "      <td>Atlantic</td>\n",
       "      <td>0.96</td>\n",
       "    </tr>\n",
       "    <tr>\n",
       "      <th>13</th>\n",
       "      <td>Burlington</td>\n",
       "      <td>0.83</td>\n",
       "    </tr>\n",
       "    <tr>\n",
       "      <th>14</th>\n",
       "      <td>Camden</td>\n",
       "      <td>0.82</td>\n",
       "    </tr>\n",
       "    <tr>\n",
       "      <th>15</th>\n",
       "      <td>Gloucester</td>\n",
       "      <td>0.77</td>\n",
       "    </tr>\n",
       "    <tr>\n",
       "      <th>16</th>\n",
       "      <td>Hunterdon</td>\n",
       "      <td>0.77</td>\n",
       "    </tr>\n",
       "    <tr>\n",
       "      <th>17</th>\n",
       "      <td>Salem</td>\n",
       "      <td>0.75</td>\n",
       "    </tr>\n",
       "    <tr>\n",
       "      <th>18</th>\n",
       "      <td>Cumberland</td>\n",
       "      <td>0.68</td>\n",
       "    </tr>\n",
       "    <tr>\n",
       "      <th>19</th>\n",
       "      <td>Warren</td>\n",
       "      <td>0.64</td>\n",
       "    </tr>\n",
       "    <tr>\n",
       "      <th>20</th>\n",
       "      <td>Sussex</td>\n",
       "      <td>0.64</td>\n",
       "    </tr>\n",
       "  </tbody>\n",
       "</table>\n",
       "</div>"
      ],
      "text/plain": [
       "        County  Return on Investment\n",
       "0       Hudson                  3.15\n",
       "1     Cape May                  2.61\n",
       "2     Monmouth                  1.76\n",
       "3        Essex                  1.63\n",
       "4        Ocean                  1.54\n",
       "5        Union                  1.33\n",
       "6       Bergen                  1.32\n",
       "7    Middlesex                  1.17\n",
       "8       Mercer                  1.07\n",
       "9       Morris                  1.07\n",
       "10     Passaic                  0.98\n",
       "11    Somerset                  0.97\n",
       "12    Atlantic                  0.96\n",
       "13  Burlington                  0.83\n",
       "14      Camden                  0.82\n",
       "15  Gloucester                  0.77\n",
       "16   Hunterdon                  0.77\n",
       "17       Salem                  0.75\n",
       "18  Cumberland                  0.68\n",
       "19      Warren                  0.64\n",
       "20      Sussex                  0.64"
      ]
     },
     "execution_count": 42,
     "metadata": {},
     "output_type": "execute_result"
    }
   ],
   "source": [
    "# Use ROI Dictionary to create a dataframe and sort by highest value for analysis\n",
    "county_roi_df = pd.DataFrame(list(roi_dict.items()),columns = ['County','Return on Investment']) \n",
    "county_roi_df.sort_values(by='Return on Investment', ascending=False).reset_index(drop=True)"
   ]
  },
  {
   "cell_type": "markdown",
   "metadata": {},
   "source": [
    "### Past ROI Summary"
   ]
  },
  {
   "cell_type": "markdown",
   "metadata": {},
   "source": [
    " - Overall the top three ROI NJ counties from 1996-2018 were Hudson County with a 315% ROI, followed by Cape May County at 261%, and finally Monmouth County at 176%. Warren and Sussex County were also tied for last in ROI at 64% each. Going forward with the analysis I would expect the top counties here to possibly level off going forward with a lesser demand at the current high prices for these counties. It will also be interesting to see if the lower counties here turn out to be the highest in terms of furture ROI predicitons based on the fact that there is more room to grow in home value for these counties.  "
   ]
  },
  {
   "cell_type": "code",
   "execution_count": 43,
   "metadata": {},
   "outputs": [],
   "source": [
    "hudson_yearly = hudson_df['value'].resample(rule='A').mean()\n",
    "cape_may_yearly = cape_may_df['value'].resample(rule='A').mean()\n",
    "monmouth_yearly = monmouth_df['value'].resample(rule='A').mean()"
   ]
  },
  {
   "cell_type": "code",
   "execution_count": 44,
   "metadata": {},
   "outputs": [
    {
     "data": {
      "image/png": "[encoded data removed]",
      "text/plain": [
       "<Figure size 864x576 with 1 Axes>"
      ]
     },
     "metadata": {
      "needs_background": "light"
     },
     "output_type": "display_data"
    }
   ],
   "source": [
    "fig, ax = plt.subplots(figsize=(12, 8))\n",
    "ax.plot(hudson_yearly, label='Hudson County Mean Value')\n",
    "ax.plot(cape_may_yearly, label='Cape May County Mean Value')\n",
    "ax.plot(monmouth_yearly, label='Monmouth County Mean Value')\n",
    "ax.legend()\n",
    "plt.grid()\n",
    "plt.title('Top 3 ROI NJ Counties 1996-2018')\n",
    "plt.xlabel('Year')\n",
    "plt.ylabel('Value US$')\n",
    "fig.tight_layout()"
   ]
  },
  {
   "cell_type": "markdown",
   "metadata": {},
   "source": [
    " - Overall the top three ROI counties appear to be following a general upward trend aside from the downturn due to the 2008 economic recession. Hudson county appears to have been hit the hardest by the recession but has since sharly bounced back. Also Cape May County had the overall highest average value close to 700,000 before the recession and did not get hit as hard as Hudson County. Monmouth County started at the highest average value in 1996 but has since been somewhere in the middle of the other two counties. Going forward it will be interesting to see if Cape May will get back to its highest point of 700,000 and whether Hudson County values will continue to sharly rise or will begin to level off.    "
   ]
  },
  {
   "cell_type": "markdown",
   "metadata": {},
   "source": [
    "## SARIMA Modeling"
   ]
  },
  {
   "cell_type": "markdown",
   "metadata": {},
   "source": [
    " - SARIMA models were choosen for the data because the will take into account the seasonality component associated with real estate data. A stepwise fit for each county will be run in order to determine the optimal model order for each. After the optimal order is determined the data will then be fit to the SARIMA model. Predictions will then be made for the next 5 years. Forecasted 5 year ROI will then be analyzed by county in order to determine the top 3 highest ROI counties. "
   ]
  },
  {
   "cell_type": "code",
   "execution_count": 45,
   "metadata": {},
   "outputs": [
    {
     "data": {
      "text/plain": [
       "{'Hudson': 0.1,\n",
       " 'Ocean': 0.09,\n",
       " 'Middlesex': 0.22,\n",
       " 'Somerset': 0.13,\n",
       " 'Monmouth': -0.03,\n",
       " 'Passaic': 0.55,\n",
       " 'Essex': -0.28,\n",
       " 'Camden': 0.31,\n",
       " 'Bergen': 0.15,\n",
       " 'Burlington': 0.29,\n",
       " 'Union': 0.04,\n",
       " 'Mercer': 0.36,\n",
       " 'Morris': 0.15,\n",
       " 'Atlantic': 0.12,\n",
       " 'Gloucester': -0.16,\n",
       " 'Cumberland': -0.17,\n",
       " 'Warren': 0.28,\n",
       " 'Hunterdon': 0.07,\n",
       " 'Cape May': 0.13,\n",
       " 'Sussex': 0.64,\n",
       " 'Salem': 1.21}"
      ]
     },
     "execution_count": 45,
     "metadata": {},
     "output_type": "execute_result"
    }
   ],
   "source": [
    "# Run SARIMA Model function to return dictionary of 5-year forecasted ROI's \n",
    "sarima_model_fcast(nj_df)"
   ]
  },
  {
   "cell_type": "code",
   "execution_count": 46,
   "metadata": {},
   "outputs": [
    {
     "data": {
      "text/plain": [
       "{'Hudson': 47456,\n",
       " 'Ocean': 8026,\n",
       " 'Middlesex': 17452,\n",
       " 'Somerset': 9014,\n",
       " 'Monmouth': 7831,\n",
       " 'Passaic': 9767,\n",
       " 'Essex': 19852,\n",
       " 'Camden': 2259,\n",
       " 'Bergen': 26715,\n",
       " 'Burlington': 8035,\n",
       " 'Union': 9144,\n",
       " 'Mercer': 10396,\n",
       " 'Morris': 3106,\n",
       " 'Atlantic': 6145,\n",
       " 'Gloucester': 12564,\n",
       " 'Cumberland': 2499,\n",
       " 'Warren': 7619,\n",
       " 'Hunterdon': 8982,\n",
       " 'Cape May': 26499,\n",
       " 'Sussex': 1738,\n",
       " 'Salem': 6334}"
      ]
     },
     "execution_count": 46,
     "metadata": {},
     "output_type": "execute_result"
    }
   ],
   "source": [
    "# Run function to check RMSE of each county model\n",
    "sarima_model_rmse(nj_df)"
   ]
  },
  {
   "cell_type": "markdown",
   "metadata": {},
   "source": [
    " - RMSE's appear to be within a decent range compared to the mean value of each county."
   ]
  },
  {
   "cell_type": "markdown",
   "metadata": {},
   "source": [
    "## Forcasted ROI Analysis"
   ]
  },
  {
   "cell_type": "markdown",
   "metadata": {},
   "source": [
    " - Will analyze forecasted ROI predictions in order to make business recommendations."
   ]
  },
  {
   "cell_type": "code",
   "execution_count": null,
   "metadata": {},
   "outputs": [],
   "source": [
    "fcast_roi_dict = sarima_model_fcast(nj_df)"
   ]
  },
  {
   "cell_type": "code",
   "execution_count": null,
   "metadata": {},
   "outputs": [],
   "source": [
    "# Create dataframe of top forecasted ROI counties for analysis\n",
    "fcast_roi_df = pd.DataFrame(list(fcast_roi_dict.items()),columns = ['County','Forecasted ROI']) \n",
    "fcast_roi_df.sort_values(by='Forecasted ROI', ascending=False).reset_index(drop=True)"
   ]
  },
  {
   "cell_type": "markdown",
   "metadata": {},
   "source": [
    " - The top three forecasted counties according to the models are Salem at 121%, Sussex at 64%, and Passaic at 55%. \n",
    " \n",
    " - The bottom forecasted counties according to the model are Monmouth, Gloucester, Cumberland, and Essex all with negative predicted ROI returns. "
   ]
  },
  {
   "cell_type": "markdown",
   "metadata": {},
   "source": [
    "### ROI Past and Future Comparison"
   ]
  },
  {
   "cell_type": "code",
   "execution_count": null,
   "metadata": {},
   "outputs": [],
   "source": [
    "roi_comparison = county_roi_df.merge(fcast_roi_df, how='inner')\n",
    "roi_comparison['ROI Change'] = roi_comparison['Forecasted ROI'] - roi_comparison['Return on Investment']\n",
    "roi_comparison.sort_values(by='Forecasted ROI', ascending=False).reset_index(drop=True)"
   ]
  },
  {
   "cell_type": "markdown",
   "metadata": {},
   "source": [
    " - Looking at the top three counties here, overall Salem county saw a 46% increase in its forecasted ROI compared to past ROI data, indicating that values here are growing at a faster rate than in the past. Sussex county has the same forecasted ROI compared to past ROI, indicating that values are growing at a consistent rate. While Passaic County saw a 43% decrease in ROI compared to its past ROI, this could indicate that while it still shows a high forecasted ROI of 55%, it is not growing as rapidly as in the past.    \n",
    " \n",
    " - Interestingly Hudson, Cape May, and Monmouth County, the top three ROI counties in the past all have low future forecasted ROI's at 13% and under. This could indicate that these counties may have leveled off in terms of home values and are not strong investments going forward. "
   ]
  },
  {
   "cell_type": "markdown",
   "metadata": {},
   "source": [
    "## Top 3 Forecasted ROI NJ Counties"
   ]
  },
  {
   "cell_type": "code",
   "execution_count": null,
   "metadata": {},
   "outputs": [],
   "source": [
    "salem_df = county_df('Salem')"
   ]
  },
  {
   "cell_type": "code",
   "execution_count": null,
   "metadata": {},
   "outputs": [],
   "source": [
    "# Plot Salem County 5-year forecast and check RMSE\n",
    "fcast_plot(salem_df, 'Salem County 5-yr Forecast')"
   ]
  },
  {
   "cell_type": "markdown",
   "metadata": {},
   "source": [
    " - The top ROI forecasted NJ county is Salem County with a predicted increase of 121% over the next 5 years. The average initial cost for the county in 2018 is just over 150,000 dollars. While the predicted average value in 2023 is just under 350,000 dollars. The model used predicts average home values within 6,334 dollars of the actual average value. The model is confident that 95% of predictions will fall within the upper and lower confidence intervals. "
   ]
  },
  {
   "cell_type": "code",
   "execution_count": null,
   "metadata": {},
   "outputs": [],
   "source": [
    "# Check the accuracy of the model \n",
    "model_accuracy(salem_df, \"Salem Model Actual vs. Predicated Mean Value\")"
   ]
  },
  {
   "cell_type": "markdown",
   "metadata": {},
   "source": [
    " - Analyzing the above graph comparing the model predictions from May 2017 to April 2018, this model appears to be performing well, aside from being slightly off in predictions between February and April 2018. "
   ]
  },
  {
   "cell_type": "code",
   "execution_count": null,
   "metadata": {},
   "outputs": [],
   "source": [
    "sussex_df = county_df('Sussex')"
   ]
  },
  {
   "cell_type": "code",
   "execution_count": null,
   "metadata": {},
   "outputs": [],
   "source": [
    "# Plot Sussex County 5-year forecast and check RMSE\n",
    "fcast_plot(sussex_df, 'Sussex County 5-yr Forecast')"
   ]
  },
  {
   "cell_type": "markdown",
   "metadata": {},
   "source": [
    " - The 2nd highest ROI forecasted NJ county is Sussex County with a predicted increase of 64% over the next 5 years. The average initial cost for the county in 2018 is just under 250,000 dollars. While the predicted average value in 2023 is just under 400,000 dollars. The model used predicts average home values within 1,738 dollars of the actual average value. The model is confident that 95% of predictions will fall within the upper and lower confidence intervals.  "
   ]
  },
  {
   "cell_type": "code",
   "execution_count": null,
   "metadata": {},
   "outputs": [],
   "source": [
    "# Check the accuracy of the model\n",
    "model_accuracy(sussex_df, \"Sussex Model Actual vs. Predicated Mean Value\")"
   ]
  },
  {
   "cell_type": "markdown",
   "metadata": {},
   "source": [
    " - This model appears to be performing well after analyzing the above graph of predictions vs. actual mean value."
   ]
  },
  {
   "cell_type": "code",
   "execution_count": null,
   "metadata": {},
   "outputs": [],
   "source": [
    "passaic_df = county_df('Passaic')"
   ]
  },
  {
   "cell_type": "code",
   "execution_count": null,
   "metadata": {},
   "outputs": [],
   "source": [
    "# Plot Passaic County 5-year forecast and check RMSE \n",
    "fcast_plot(passaic_df, 'Passaic County 5-yr Forecast')"
   ]
  },
  {
   "cell_type": "markdown",
   "metadata": {},
   "source": [
    " - The 3rd ROI forecasted NJ county is Passaic County with a predicted increase of 55% over the next 5 years. The average initial cost for the county in 2018 is about 300,000 dollars. While the predicted average value in 2023 is about 475,000 dollars. The model used predicts average home values within 9,767 dollars of the actual average value. The model is confident that 95% of predictions will fall within the upper and lower confidence intervals.  "
   ]
  },
  {
   "cell_type": "code",
   "execution_count": null,
   "metadata": {},
   "outputs": [],
   "source": [
    "# Check the accuracy of the model\n",
    "model_accuracy(passaic_df, \"Passaic Model Actual vs. Predicated Mean Value\")"
   ]
  },
  {
   "cell_type": "markdown",
   "metadata": {},
   "source": [
    " - This model appears to be performing well after analyzing the above graph of predictions vs. actual mean value."
   ]
  },
  {
   "cell_type": "markdown",
   "metadata": {},
   "source": [
    "## Business Reccomendations/Conclusion"
   ]
  },
  {
   "cell_type": "markdown",
   "metadata": {},
   "source": [
    " - Overall business recommendations are as follows:\n",
    " \n",
    " 1. Invest in Salem, Sussex, and Passaic County for the highest forecasted ROI returns. \n",
    " 2. Strongly reccommend to invest in Salem County due to its lowest initial cost of just over 150,000 dollars along with the overall highest forecasted ROI of 121%, almost double the next highest forecast.\n",
    " 3. Recommend avoiding past top ROI counties including Hudson, Cape May, and Monmouth County. Despite the large past ROI data from these counties they may have leveled off in terms of value and likely will not be good investment options going forward."
   ]
  },
  {
   "cell_type": "markdown",
   "metadata": {},
   "source": [
    "## Future Work"
   ]
  },
  {
   "cell_type": "markdown",
   "metadata": {},
   "source": [
    " - Going forward future work on this project could include:\n",
    " \n",
    "     1. Add another model type such as a RNN in order to compare its forecasts with the SARIMA models used here and check for similarities/differences between the models.\n",
    "     \n",
    "     2. Go deeper into the analysis by modeling the top counties by their cities in order to determine the top ROI cities within the counties thereby providing even more targeted recommendations with regard to where to invest.\n",
    "     \n",
    "     3. Take into account another evaluation metric along with ROI such as risk in order to provide more detailed investment recommendations."
   ]
  },
  {
   "cell_type": "code",
   "execution_count": null,
   "metadata": {},
   "outputs": [],
   "source": []
  }
 ],
 "metadata": {
  "kernelspec": {
   "display_name": "Python 3",
   "language": "python",
   "name": "python3"
  },
  "language_info": {
   "codemirror_mode": {
    "name": "ipython",
    "version": 3
   },
   "file_extension": ".py",
   "mimetype": "text/x-python",
   "name": "python",
   "nbconvert_exporter": "python",
   "pygments_lexer": "ipython3",
   "version": "3.8.5"
  }
 },
 "nbformat": 4,
 "nbformat_minor": 4
}
